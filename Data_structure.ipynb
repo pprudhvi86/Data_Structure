{
  "nbformat": 4,
  "nbformat_minor": 0,
  "metadata": {
    "colab": {
      "provenance": []
    },
    "kernelspec": {
      "name": "python3",
      "display_name": "Python 3"
    },
    "language_info": {
      "name": "python"
    }
  },
  "cells": [
    {
      "cell_type": "markdown",
      "source": [
        "Q1. What are data structures, and why are they important?\n",
        "\n",
        "Ans: Way of organizing and storing data so that it can be accessed and manipulated efficiently\n",
        "\n",
        "types of data structre :\n",
        "*String\n",
        "* lists\n",
        "*tuples\n",
        "*set\n",
        "*Dictionary\n",
        "*Array\n",
        "\n",
        "They are important to store the data and manipulate it efficiently."
      ],
      "metadata": {
        "id": "7gw6FqVBDZ3l"
      }
    },
    {
      "cell_type": "markdown",
      "source": [
        "Q2.  Explain the difference between mutable and immutable data types with examples?\n",
        "\n",
        "Ans:\n",
        "**Mutable:** The data can be changed after creation,we can modify,add or delete elements\n",
        "\n",
        "e.g:lists=[10,20,30]\n",
        "\n",
        "lists.append(40)\n",
        "\n",
        "lists\n",
        "\n",
        "o/p:[10,20,30,40]\n",
        "\n",
        "**Immutable:** The data cant be changed after creation ,It creates a new object when you try to change it.\n",
        "\n",
        "E.g:tuples=(10,20,30)\n",
        "\n",
        "tuples[0]=40\n",
        "\n",
        "o/p: error 'tuple' doesnot allow item assignment"
      ],
      "metadata": {
        "id": "9MpGc3a7H9-5"
      }
    },
    {
      "cell_type": "markdown",
      "source": [
        "Q3.What are the main differences between lists and tuples in Python?\n",
        "\n",
        "Ans:lists :It is represented in [ ],\n",
        "           It is mutable,\n",
        "            It uses dynamic data ,\n",
        "            Methods present are like append,remove, extend etc..\n",
        "  \n",
        "Tuples:It is repesented  in (),\n",
        "It is immutable,\n",
        "It uses fixed data,\n",
        "Methods present are count,index."
      ],
      "metadata": {
        "id": "ftKrn8tRKIKh"
      }
    },
    {
      "cell_type": "markdown",
      "source": [
        "Q4.Describe how dictionaries store data?\n",
        "\n",
        "Ans:A dictionary in python stores data in key-value pairs,using a data structure.\n",
        "\n",
        "E.g:my_dict{\"name\":\"Prudhvi\",\"age\":29}\n",
        "\n",
        "my_dict\n",
        "\n",
        "o/p:{\"name\":\"Prudhvi\",\"age\":29}  "
      ],
      "metadata": {
        "id": "t0ncv_iP3c4m"
      }
    },
    {
      "cell_type": "markdown",
      "source": [
        "Q5.Why might you use a set instead of a list in Python?\n",
        "\n",
        "Ans:We might use a set instead of lists for following reasons:\n",
        "\n",
        "*A set stores unique values only while lists store duplicate values.\n",
        "\n",
        "*A set helps in faster membership Testing(in and not in )\n",
        "\n",
        "*A set support powerful operations like union,intersection,difference"
      ],
      "metadata": {
        "id": "WefKURck5AQh"
      }
    },
    {
      "cell_type": "markdown",
      "source": [
        "Q6.What is a string in Python, and how is it different from a list?\n",
        "\n",
        "Ans: It is a sequence of character which represents  textual data\n",
        "\n",
        "*Strings are immutable\n",
        "\n",
        "*It has specific methods like .upper(),.lower(),.split() etc..\n",
        "\n",
        "*it is used to represent textual data .\n",
        "* it is represented in \" \"\n",
        "\n",
        "While lists can contain any type of elements ,It is mutable ,it has specific methods like .append(),.remove() etc.. it is represented i [ ]."
      ],
      "metadata": {
        "id": "z-qhmVqj6nBf"
      }
    },
    {
      "cell_type": "markdown",
      "source": [
        "Q7.How do tuples ensure data integrity in Python?\n",
        "\n",
        "Ans:Tuples ensure data integrity mainly through  immutability .\n",
        "which means once a tuple is created its content can't be changed like no adding,no removing or no changing of the elements."
      ],
      "metadata": {
        "id": "1RO_QxQdJ26n"
      }
    },
    {
      "cell_type": "markdown",
      "source": [
        "Q8.What is a hash table, and how does it relate to dictionaries in Python?\n",
        "\n",
        "Ans: A hash table is a data structure that stores key-value pairs and allows  fast access to data using a key .\n",
        "\n",
        "In python the dictionary is implemented using a hash table."
      ],
      "metadata": {
        "id": "L0Jjha47K2IL"
      }
    },
    {
      "cell_type": "markdown",
      "source": [
        "Q9.Can lists contain different data types in Python?\n",
        "\n",
        "Ans.Yes, lists contain different data types in python as it can store hetrogeneous data .\n",
        "\n",
        "E.g:lists=[\"Prudhvi\",1,2.2,True,3+5j]\n",
        "\n",
        "lists\n",
        "\n",
        "o/p:\n",
        "\n",
        "[\"Prudhvi\",1,2.2,True,3+5j]"
      ],
      "metadata": {
        "id": "NoP2lQ5MLjmT"
      }
    },
    {
      "cell_type": "markdown",
      "source": [
        "Q10. Explain why strings are immutable in Python?\n",
        "\n",
        "Ans:Strings are immutable because once it is created it cannot be changed.\n",
        "\n",
        "As it avoids  accidental change .\n",
        "\n",
        "It is faster in performance,It reuses string objects."
      ],
      "metadata": {
        "id": "lrkiV_S4Mex-"
      }
    },
    {
      "cell_type": "markdown",
      "source": [
        "Q11.What advantages do dictionaries offer over lists for certain tasks?\n",
        "\n",
        "Ans:The Advantages that dictionary offers over lists are:\n",
        "\n",
        "*It acesses values directly using keys\n",
        "\n",
        "*Dictinary uses discriptive  keys instead of relying on position like lists do\n",
        "\n",
        "*Dictionary avoids index errors\n",
        "\n",
        "*It is easy to add or remove key value pair easily in dictionary"
      ],
      "metadata": {
        "id": "s_CpWXenNRGu"
      }
    },
    {
      "cell_type": "markdown",
      "source": [
        "Q12.Describe a scenario where using a tuple would be preferable over a list?\n",
        "\n",
        "Ans:The best scenario where tuple would be more preferable over a list is employee details.\n",
        "\n",
        "Employee1=(\"Prudhvi\",\"Devloper\",60001)\n",
        "\n",
        "Employee1\n",
        "\n",
        "o/p:(\"Prudhvi\",\"Devloper\",60001)\n",
        "\n",
        "\n",
        "\n"
      ],
      "metadata": {
        "id": "UIpqfJQdT0UT"
      }
    },
    {
      "cell_type": "markdown",
      "source": [
        "Q13. How do sets handle duplicate values in Python?\n",
        "Ans.\n",
        "In Python set automatically removes duplicate values and stores unique values\n",
        "\n",
        "E.g:Set1={1,2,3,3,2,1}\n",
        "\n",
        "Set1\n",
        "\n",
        "o/p:{1,2,3}"
      ],
      "metadata": {
        "id": "98zWtbI1VWZc"
      }
    },
    {
      "cell_type": "markdown",
      "source": [
        "Q14.How does the “in” keyword work differently for lists and dictionaries?\n",
        "\n",
        "Ans:\"in\" Keyword in lists check whether value is there or not in the list\n",
        "\n",
        "While \"in\" keyword in dictinary check whether key is present in the  dictionary not the value"
      ],
      "metadata": {
        "id": "egckeUbVWJUf"
      }
    },
    {
      "cell_type": "markdown",
      "source": [
        "Q15.Can you modify the elements of a tuple? Explain why or why not ?\n",
        "\n",
        "Ans.No We cannot modify the elements of a tuple because tupleas are immutable which means no new elements can be added or removed or changed once the its created."
      ],
      "metadata": {
        "id": "a-k9jfx8a8EU"
      }
    },
    {
      "cell_type": "markdown",
      "source": [
        "Q16.What is a nested dictionary, and give an example of its use case?\n",
        "\n",
        "Ans:Nested dictionary  is a dictionary inside another dictionary .It allows you to group related data  in a structured and hierarchical way\n",
        "\n",
        "E.g:\n",
        "\n",
        "Student={\"name\":\"prudhvi\",\"marks\":{\"Science\":90,\"maths\":85},\"age\":29}\n",
        "\n",
        "print(Student[\"name\"])\n",
        "\n",
        "o/p:prudhvi\n",
        "\n",
        "print(Student[\"marks\"][\"maths\"])\n",
        "\n",
        "o/p:85"
      ],
      "metadata": {
        "id": "BgiHIrHmbmxV"
      }
    },
    {
      "cell_type": "markdown",
      "source": [
        "Q17. Describe the time complexity of accessing elements in a dictionary?\n",
        "\n",
        "Ans:Accessing an element by key in a dictionary is very fast .\n",
        "\n",
        "It uses a hash table internally for dictionaries.\n",
        "\n",
        "It computes the hash of the key\n",
        "\n",
        "Jumps directly to the memory location.\n",
        "\n",
        "Retrives the value in constant time"
      ],
      "metadata": {
        "id": "LleGyC6Tfmmv"
      }
    },
    {
      "cell_type": "markdown",
      "source": [
        "Q18.In what situations are lists preferred over dictionaries?\n",
        "\n",
        "Ans:The situations where lists are prefeered over dictionaries are:\n",
        "  \n",
        "  when you need to maintain order of elements\n",
        "\n",
        "  when key - value pair is not required\n",
        "\n",
        "  When you need access by index\n",
        "\n",
        "  In storing homogeneous data\n"
      ],
      "metadata": {
        "id": "Zen_zFXigysT"
      }
    },
    {
      "cell_type": "markdown",
      "source": [
        "Q19.Why are dictionaries considered unordered, and how does that affect data retrieval?\n",
        "\n",
        "Ans. In earlier versions of  python (3.7) dictionaries were considered as  as unordered because they didnot  guarantee the order in which keys were stored or returned. It became difficult to analyze the data in order."
      ],
      "metadata": {
        "id": "NPBxyjmzh8V6"
      }
    },
    {
      "cell_type": "markdown",
      "source": [
        "Q20. Explain the difference between a list and a dictionary in terms of data retrieval?\n",
        "\n",
        "Ans: the difference between a list and a dictionary in terms of data retrieval are:\n",
        "\n",
        "Lists:\n",
        "\n",
        " Access by position index\n",
        "\n",
        " uses integer indices  staarting from 0\n",
        "\n",
        " order of elements matter\n",
        "\n",
        "Dictionaries:\n",
        "\n",
        "Access by key not index.\n",
        "\n",
        "Uses a key to retrive the associated value\n",
        "\n",
        "Order of element is not used"
      ],
      "metadata": {
        "id": "MeVZ5ulNjSHL"
      }
    },
    {
      "cell_type": "markdown",
      "source": [
        "## **Practical** **Questions**"
      ],
      "metadata": {
        "id": "PuDZU36lP2Kl"
      }
    },
    {
      "cell_type": "markdown",
      "source": [
        "Q1. Write a code to create a string with your name and print it?"
      ],
      "metadata": {
        "id": "IpX4UXENdmpY"
      }
    },
    {
      "cell_type": "code",
      "source": [
        "# Write a code to create a string with your name and print it?\n",
        "\n",
        "name=input(str(\"enter your name: \"))\n",
        "name\n"
      ],
      "metadata": {
        "colab": {
          "base_uri": "https://localhost:8080/",
          "height": 53
        },
        "id": "albCijkHdPXE",
        "outputId": "d245b346-cef7-4dcf-905b-5d284d0a9349"
      },
      "execution_count": null,
      "outputs": [
        {
          "name": "stdout",
          "output_type": "stream",
          "text": [
            "enter your name: Prudhvi\n"
          ]
        },
        {
          "output_type": "execute_result",
          "data": {
            "text/plain": [
              "'Prudhvi'"
            ],
            "application/vnd.google.colaboratory.intrinsic+json": {
              "type": "string"
            }
          },
          "metadata": {},
          "execution_count": 5
        }
      ]
    },
    {
      "cell_type": "markdown",
      "source": [
        "Q2.Write a code to find the length of the string \"Hello World\"?"
      ],
      "metadata": {
        "id": "8iMxYRUHedkO"
      }
    },
    {
      "cell_type": "code",
      "source": [
        "#Write a code to find the length of the string \"Hello World\"?\n",
        "s=\"Hello World\"\n",
        "len(s)"
      ],
      "metadata": {
        "colab": {
          "base_uri": "https://localhost:8080/"
        },
        "id": "6V6VC96DemPv",
        "outputId": "75a705ac-4bb2-4e7e-d937-4d79ac7fccf1"
      },
      "execution_count": null,
      "outputs": [
        {
          "output_type": "execute_result",
          "data": {
            "text/plain": [
              "11"
            ]
          },
          "metadata": {},
          "execution_count": 4
        }
      ]
    },
    {
      "cell_type": "markdown",
      "source": [
        "Q3.Write a code to slice the first 3 characters from the string \"Python Programming\"?"
      ],
      "metadata": {
        "id": "MXt3Xtc2exXJ"
      }
    },
    {
      "cell_type": "code",
      "source": [
        "#Write a code to slice the first 3 characters from the string \"Python Programming\"?\n",
        "s=\"Python Programming\"\n",
        "s[0:3]"
      ],
      "metadata": {
        "colab": {
          "base_uri": "https://localhost:8080/",
          "height": 35
        },
        "id": "verzlyzZe19a",
        "outputId": "1587fd2b-d8f1-4dcc-d748-cc7677f39875"
      },
      "execution_count": null,
      "outputs": [
        {
          "output_type": "execute_result",
          "data": {
            "text/plain": [
              "'Pyt'"
            ],
            "application/vnd.google.colaboratory.intrinsic+json": {
              "type": "string"
            }
          },
          "metadata": {},
          "execution_count": 6
        }
      ]
    },
    {
      "cell_type": "markdown",
      "source": [
        "Q4.Write a code to convert the string \"hello\" to uppercase?"
      ],
      "metadata": {
        "id": "0G43VZ_gfPlC"
      }
    },
    {
      "cell_type": "code",
      "source": [
        "#Write a code to convert the string \"hello\" to uppercase?\n",
        "s=\"hello\"\n",
        "s.upper()"
      ],
      "metadata": {
        "colab": {
          "base_uri": "https://localhost:8080/",
          "height": 35
        },
        "id": "I3faCNbSfV8M",
        "outputId": "15d85cf4-bb66-4d24-b254-e8ff0a75dbcd"
      },
      "execution_count": null,
      "outputs": [
        {
          "output_type": "execute_result",
          "data": {
            "text/plain": [
              "'HELLO'"
            ],
            "application/vnd.google.colaboratory.intrinsic+json": {
              "type": "string"
            }
          },
          "metadata": {},
          "execution_count": 7
        }
      ]
    },
    {
      "cell_type": "markdown",
      "source": [
        "Q5.Write a code to replace the word \"apple\" with \"orange\" in the string \"I like apple\"?"
      ],
      "metadata": {
        "id": "FajehewHfdwZ"
      }
    },
    {
      "cell_type": "code",
      "source": [
        "#Write a code to replace the word \"apple\" with \"orange\" in the string \"I like apple\"\n",
        "s=\"I like apple\"\n",
        "s1=s.replace(\"apple\",\"orange\")\n",
        "s1"
      ],
      "metadata": {
        "colab": {
          "base_uri": "https://localhost:8080/",
          "height": 35
        },
        "id": "nzV_WMnvfonS",
        "outputId": "878d179b-0a27-4d3b-db31-8832b90449f6"
      },
      "execution_count": null,
      "outputs": [
        {
          "output_type": "execute_result",
          "data": {
            "text/plain": [
              "'I like orange'"
            ],
            "application/vnd.google.colaboratory.intrinsic+json": {
              "type": "string"
            }
          },
          "metadata": {},
          "execution_count": 9
        }
      ]
    },
    {
      "cell_type": "markdown",
      "source": [
        "Q6. Write a code to create a list with numbers 1 to 5 and print it?"
      ],
      "metadata": {
        "id": "K3IoDp4fgTYv"
      }
    },
    {
      "cell_type": "code",
      "source": [
        "#) Write a code to create a list with numbers 1 to 5 and print it?\n",
        "\n",
        "p=[1,2,3,4,5]\n",
        "p"
      ],
      "metadata": {
        "colab": {
          "base_uri": "https://localhost:8080/"
        },
        "id": "YvLxtBIxgYC4",
        "outputId": "bc564e99-340f-45bb-cf59-20aecd775e95"
      },
      "execution_count": null,
      "outputs": [
        {
          "output_type": "execute_result",
          "data": {
            "text/plain": [
              "[1, 2, 3, 4, 5]"
            ]
          },
          "metadata": {},
          "execution_count": 10
        }
      ]
    },
    {
      "cell_type": "markdown",
      "source": [
        "Q7. Write a code to append the number 10 to the list [1, 2, 3, 4]?"
      ],
      "metadata": {
        "id": "pANqGdGCgvwO"
      }
    },
    {
      "cell_type": "code",
      "source": [
        "#Write a code to append the number 10 to the list [1, 2, 3, 4]?\n",
        "l=[1,2,3,4]\n",
        "l.append(10)\n",
        "l"
      ],
      "metadata": {
        "colab": {
          "base_uri": "https://localhost:8080/"
        },
        "id": "9mU078sWgn37",
        "outputId": "7777cbe9-33b3-4ac7-b90f-0a80a1d9e5c0"
      },
      "execution_count": null,
      "outputs": [
        {
          "output_type": "execute_result",
          "data": {
            "text/plain": [
              "[1, 2, 3, 4, 10]"
            ]
          },
          "metadata": {},
          "execution_count": 12
        }
      ]
    },
    {
      "cell_type": "markdown",
      "source": [
        "Q8.Write a code to remove the number 3 from the list [1, 2, 3, 4, 5]?"
      ],
      "metadata": {
        "id": "sVnyx4aHg1pG"
      }
    },
    {
      "cell_type": "code",
      "source": [
        "#Write a code to remove the number 3 from the list [1, 2, 3, 4, 5]?\n",
        "q=[1,2,3,4,5]\n",
        "q.remove(3)\n",
        "q"
      ],
      "metadata": {
        "colab": {
          "base_uri": "https://localhost:8080/"
        },
        "id": "wH4zQz-Rg6kr",
        "outputId": "deb6cef1-3aef-4190-e88d-5c25a93501c2"
      },
      "execution_count": null,
      "outputs": [
        {
          "output_type": "execute_result",
          "data": {
            "text/plain": [
              "[1, 2, 4, 5]"
            ]
          },
          "metadata": {},
          "execution_count": 13
        }
      ]
    },
    {
      "cell_type": "markdown",
      "source": [
        "Q9.Write a code to access the second element in the list ['a', 'b', 'c', 'd']?"
      ],
      "metadata": {
        "id": "OBZOSnvThHAS"
      }
    },
    {
      "cell_type": "code",
      "source": [
        "#Write a code to access the second element in the list ['a', 'b', 'c', 'd']?\n",
        "t=['a', 'b', 'c', 'd']\n",
        "t[1]"
      ],
      "metadata": {
        "colab": {
          "base_uri": "https://localhost:8080/",
          "height": 35
        },
        "id": "bemyd8TRha-q",
        "outputId": "3c5c7e68-5db2-4e69-a601-9bf6fe24227a"
      },
      "execution_count": null,
      "outputs": [
        {
          "output_type": "execute_result",
          "data": {
            "text/plain": [
              "'b'"
            ],
            "application/vnd.google.colaboratory.intrinsic+json": {
              "type": "string"
            }
          },
          "metadata": {},
          "execution_count": 14
        }
      ]
    },
    {
      "cell_type": "markdown",
      "source": [
        "Q10. Write a code to reverse the list [10, 20, 30, 40, 50]?\n"
      ],
      "metadata": {
        "id": "C_UMymbkiEM_"
      }
    },
    {
      "cell_type": "code",
      "source": [
        "# Write a code to reverse the list [10, 20, 30, 40, 50].\n",
        "u=[10, 20, 30, 40, 50]\n",
        "u[::-1]"
      ],
      "metadata": {
        "colab": {
          "base_uri": "https://localhost:8080/"
        },
        "id": "Ma4K8wRliJU3",
        "outputId": "16542f79-9579-4470-c7c5-66d6f247817a"
      },
      "execution_count": null,
      "outputs": [
        {
          "output_type": "execute_result",
          "data": {
            "text/plain": [
              "[50, 40, 30, 20, 10]"
            ]
          },
          "metadata": {},
          "execution_count": 15
        }
      ]
    },
    {
      "cell_type": "markdown",
      "source": [
        "Q11.11. Write a code to create a tuple with the elements 100, 200, 300 and print it?"
      ],
      "metadata": {
        "id": "G2hXVZZribZT"
      }
    },
    {
      "cell_type": "code",
      "source": [
        "# Write a code to create a tuple with the elements 100, 200, 300 and print it.\n",
        "tuple1=(100, 200, 300)\n",
        "tuple1"
      ],
      "metadata": {
        "colab": {
          "base_uri": "https://localhost:8080/"
        },
        "id": "GhVxYOfHiUUd",
        "outputId": "15ca75d6-10d3-4e00-a2f7-7997f6f963b8"
      },
      "execution_count": null,
      "outputs": [
        {
          "output_type": "execute_result",
          "data": {
            "text/plain": [
              "(100, 200, 300)"
            ]
          },
          "metadata": {},
          "execution_count": 16
        }
      ]
    },
    {
      "cell_type": "markdown",
      "source": [
        "Q12.Write a code to access the second-to-last element of the tuple ('red', 'green', 'blue', 'yellow')."
      ],
      "metadata": {
        "id": "MqV1cVNyixR1"
      }
    },
    {
      "cell_type": "code",
      "source": [
        "#Write a code to access the second-to-last element of the tuple ('red', 'green', 'blue', 'yellow').\n",
        "color=('red', 'green', 'blue', 'yellow')\n",
        "color[-2]"
      ],
      "metadata": {
        "colab": {
          "base_uri": "https://localhost:8080/",
          "height": 35
        },
        "id": "pCTG8Gsii2XB",
        "outputId": "65d2e7b6-4322-442d-d6b4-1e9cd1ba69c6"
      },
      "execution_count": null,
      "outputs": [
        {
          "output_type": "execute_result",
          "data": {
            "text/plain": [
              "'blue'"
            ],
            "application/vnd.google.colaboratory.intrinsic+json": {
              "type": "string"
            }
          },
          "metadata": {},
          "execution_count": 23
        }
      ]
    },
    {
      "cell_type": "markdown",
      "source": [
        "Q13.Write a code to find the minimum number in the tuple (10, 20, 5, 15)."
      ],
      "metadata": {
        "id": "7Cu4SQNEzEVW"
      }
    },
    {
      "cell_type": "code",
      "source": [
        "#Write a code to find the minimum number in the tuple (10, 20, 5, 15).\n",
        "tuple2=(10, 20, 5, 15)\n",
        "min(tuple2)"
      ],
      "metadata": {
        "id": "CIUoeLPnzJQg",
        "colab": {
          "base_uri": "https://localhost:8080/"
        },
        "outputId": "b30d2104-19c4-4319-ef34-5b03b2344b4d"
      },
      "execution_count": null,
      "outputs": [
        {
          "output_type": "execute_result",
          "data": {
            "text/plain": [
              "5"
            ]
          },
          "metadata": {},
          "execution_count": 2
        }
      ]
    },
    {
      "cell_type": "markdown",
      "source": [
        "Q14.Write a code to find the index of the element \"cat\" in the tuple ('dog', 'cat', 'rabbit')."
      ],
      "metadata": {
        "id": "5IKkUFrczwsp"
      }
    },
    {
      "cell_type": "code",
      "source": [
        "#Write a code to find the index of the element \"cat\" in the tuple ('dog', 'cat', 'rabbit').\n",
        "tuple3=('dog', 'cat', 'rabbit')\n",
        "tuple3.index('cat')"
      ],
      "metadata": {
        "colab": {
          "base_uri": "https://localhost:8080/"
        },
        "id": "635Zv6bdz1c1",
        "outputId": "1e26d55e-0c54-45b2-e0f6-77ea47442488"
      },
      "execution_count": null,
      "outputs": [
        {
          "output_type": "execute_result",
          "data": {
            "text/plain": [
              "1"
            ]
          },
          "metadata": {},
          "execution_count": 3
        }
      ]
    },
    {
      "cell_type": "markdown",
      "source": [
        "Q15.Write a code to create a tuple containing three different fruits and check if \"kiwi\" is in it.\n"
      ],
      "metadata": {
        "id": "YZ4DJbT6z-wW"
      }
    },
    {
      "cell_type": "code",
      "source": [
        "#Write a code to create a tuple containing three different fruits and check if \"kiwi\" is in it.\n",
        "tuple4=(\"orange\",\"mango\",\"Kiwi\")\n",
        "if \"Kiwi\" in tuple4:\n",
        "  print(\"Kiwi is present\")\n",
        "else:\n",
        "  print(\"kiwi is not present\")"
      ],
      "metadata": {
        "colab": {
          "base_uri": "https://localhost:8080/"
        },
        "id": "_60OAik30DkJ",
        "outputId": "95403495-840d-4095-8e2c-db6d82c52a32"
      },
      "execution_count": null,
      "outputs": [
        {
          "output_type": "stream",
          "name": "stdout",
          "text": [
            "Kiwi is present\n"
          ]
        }
      ]
    },
    {
      "cell_type": "markdown",
      "source": [
        "Q16.Write a code to create a set with the elements 'a', 'b', 'c' and print it."
      ],
      "metadata": {
        "id": "njhBqOis1XYz"
      }
    },
    {
      "cell_type": "code",
      "source": [
        "#Write a code to create a set with the elements 'a', 'b', 'c' and print it.\n",
        "set1={\"a\",\"b\",\"c\"}\n",
        "set1"
      ],
      "metadata": {
        "colab": {
          "base_uri": "https://localhost:8080/"
        },
        "id": "Fl_Cdqq91c4e",
        "outputId": "ec599d67-c6f8-4059-94b9-221a20c4e3d9"
      },
      "execution_count": null,
      "outputs": [
        {
          "output_type": "execute_result",
          "data": {
            "text/plain": [
              "{'a', 'b', 'c'}"
            ]
          },
          "metadata": {},
          "execution_count": 8
        }
      ]
    },
    {
      "cell_type": "markdown",
      "source": [
        "Q17.Write a code to clear all elements from the set {1, 2, 3, 4, 5}."
      ],
      "metadata": {
        "id": "AHisjWca1rRP"
      }
    },
    {
      "cell_type": "code",
      "source": [
        "#Write a code to clear all elements from the set {1, 2, 3, 4, 5}.\n",
        "set2={1, 2, 3, 4, 5}\n",
        "set2.clear()\n",
        "set2"
      ],
      "metadata": {
        "colab": {
          "base_uri": "https://localhost:8080/"
        },
        "id": "2nG2b79P11-Z",
        "outputId": "79dade12-a2c4-4f65-e1cd-aa028de1c420"
      },
      "execution_count": null,
      "outputs": [
        {
          "output_type": "execute_result",
          "data": {
            "text/plain": [
              "set()"
            ]
          },
          "metadata": {},
          "execution_count": 10
        }
      ]
    },
    {
      "cell_type": "markdown",
      "source": [
        "Q18. Write a code to remove the element 4 from the set {1, 2, 3, 4}"
      ],
      "metadata": {
        "id": "Tn7Jw0E12AqS"
      }
    },
    {
      "cell_type": "code",
      "source": [
        "# Write a code to remove the element 4 from the set {1, 2, 3, 4}\n",
        "set3={1, 2, 3, 4}\n",
        "set3.remove(4)\n",
        "set3\n"
      ],
      "metadata": {
        "colab": {
          "base_uri": "https://localhost:8080/"
        },
        "id": "xAPSgCJT2IjS",
        "outputId": "4e7ae0c3-e476-41f8-84d3-d7b2d5de3e6f"
      },
      "execution_count": null,
      "outputs": [
        {
          "output_type": "execute_result",
          "data": {
            "text/plain": [
              "{1, 2, 3}"
            ]
          },
          "metadata": {},
          "execution_count": 12
        }
      ]
    },
    {
      "cell_type": "markdown",
      "source": [
        "Q19.Write a code to find the union of two sets {1, 2, 3} and {3, 4, 5}."
      ],
      "metadata": {
        "id": "ziAoYVya3atS"
      }
    },
    {
      "cell_type": "code",
      "source": [
        "#Write a code to find the union of two sets {1, 2, 3} and {3, 4, 5}.\n",
        "set4={1,2,3}\n",
        "set5={3,4,5}\n",
        "sets=set4 |set5\n",
        "sets"
      ],
      "metadata": {
        "colab": {
          "base_uri": "https://localhost:8080/"
        },
        "id": "JV_dn6NF33y3",
        "outputId": "8721b62a-d17c-49ee-f7e2-5e7bbca52ece"
      },
      "execution_count": null,
      "outputs": [
        {
          "output_type": "execute_result",
          "data": {
            "text/plain": [
              "{1, 2, 3, 4, 5}"
            ]
          },
          "metadata": {},
          "execution_count": 13
        }
      ]
    },
    {
      "cell_type": "markdown",
      "source": [
        "Q20.Write a code to find the intersection of two sets {1, 2, 3} and {2, 3, 4}.\n"
      ],
      "metadata": {
        "id": "FNnQhpPV4WOG"
      }
    },
    {
      "cell_type": "code",
      "source": [
        "#Write a code to find the intersection of two sets {1, 2, 3} and {2, 3, 4}.\n",
        "k={1,2,3}\n",
        "l={2,3,4}\n",
        "m=k&l\n",
        "m"
      ],
      "metadata": {
        "colab": {
          "base_uri": "https://localhost:8080/"
        },
        "id": "Q7MV9lC_4bxG",
        "outputId": "ac90db12-3d8e-4f87-a48d-e9f506e8c582"
      },
      "execution_count": null,
      "outputs": [
        {
          "output_type": "execute_result",
          "data": {
            "text/plain": [
              "{2, 3}"
            ]
          },
          "metadata": {},
          "execution_count": 14
        }
      ]
    },
    {
      "cell_type": "markdown",
      "source": [
        "Q21.Write a code to create a dictionary with the keys \"name\", \"age\", and \"city\", and print it."
      ],
      "metadata": {
        "id": "HthC4kWg5Awr"
      }
    },
    {
      "cell_type": "code",
      "source": [
        "#Write a code to create a dictionary with the keys \"name\", \"age\", and \"city\", and print it.\n",
        "dict1={\"name\":\"Prudhvi\",\"age\":\"28\",\"city\":\"Kolkata\"}\n",
        "dict1"
      ],
      "metadata": {
        "colab": {
          "base_uri": "https://localhost:8080/"
        },
        "id": "Lv5vqisA5HNB",
        "outputId": "3088bb00-1476-418c-b763-aaf9da4100d5"
      },
      "execution_count": null,
      "outputs": [
        {
          "output_type": "execute_result",
          "data": {
            "text/plain": [
              "{'name': 'Prudhvi', 'age': '28', 'city': 'Kolkata'}"
            ]
          },
          "metadata": {},
          "execution_count": 15
        }
      ]
    },
    {
      "cell_type": "markdown",
      "source": [
        "Q22.Write a code to add a new key-value pair \"country\": \"USA\" to the dictionary {'name': 'John', 'age': 25}.\n"
      ],
      "metadata": {
        "id": "88Nx4RB75oIj"
      }
    },
    {
      "cell_type": "code",
      "source": [
        "#Write a code to add a new key-value pair \"country\": \"USA\" to the dictionary {'name': 'John', 'age': 25}.\n",
        "dict2={'name': 'John', 'age': 25}\n",
        "dict2[\"country\"]=\"USA\"\n",
        "dict2"
      ],
      "metadata": {
        "colab": {
          "base_uri": "https://localhost:8080/"
        },
        "id": "SYYVJ6Jy6WeT",
        "outputId": "86bb8916-53d2-4434-e6e5-3eedf23a92a3"
      },
      "execution_count": null,
      "outputs": [
        {
          "output_type": "execute_result",
          "data": {
            "text/plain": [
              "{'name': 'John', 'age': 25, 'country': 'USA'}"
            ]
          },
          "metadata": {},
          "execution_count": 18
        }
      ]
    },
    {
      "cell_type": "markdown",
      "source": [
        "Q23.Write a code to access the value associated with the key \"name\" in the dictionary {'name': 'Alice', 'age': 30}."
      ],
      "metadata": {
        "id": "lBNwgPXO60vB"
      }
    },
    {
      "cell_type": "code",
      "source": [
        "#Write a code to access the value associated with the key \"name\" in the dictionary {'name': 'Alice', 'age': 30}.\n",
        "dict3={'name': 'Alice', 'age': 30}\n",
        "dict3[\"name\"] # both will give the same o/p:\n",
        "dict3.get(\"name\")"
      ],
      "metadata": {
        "colab": {
          "base_uri": "https://localhost:8080/",
          "height": 35
        },
        "id": "Pmh3KLu063St",
        "outputId": "e2b268fd-079f-4409-8355-8d541a42fec1"
      },
      "execution_count": null,
      "outputs": [
        {
          "output_type": "execute_result",
          "data": {
            "text/plain": [
              "'Alice'"
            ],
            "application/vnd.google.colaboratory.intrinsic+json": {
              "type": "string"
            }
          },
          "metadata": {},
          "execution_count": 20
        }
      ]
    },
    {
      "cell_type": "markdown",
      "source": [
        "Q24.Write a code to remove the key \"age\" from the dictionary {'name': 'Bob', 'age': 22, 'city': 'New York'}."
      ],
      "metadata": {
        "id": "jb_q__tK7Uyc"
      }
    },
    {
      "cell_type": "code",
      "source": [
        "#Write a code to remove the key \"age\" from the dictionary {'name': 'Bob', 'age': 22, 'city': 'New York'}.\n",
        "dict4={'name': 'Bob', 'age': 22, 'city': 'New York'}\n",
        "del dict4['age']\n",
        "# dict4.pop(\"age\") both will give the same output\n",
        "dict4"
      ],
      "metadata": {
        "colab": {
          "base_uri": "https://localhost:8080/"
        },
        "id": "fRmI4xG17tcD",
        "outputId": "99254d07-38ce-40d9-b2ba-767bdab33fdc"
      },
      "execution_count": null,
      "outputs": [
        {
          "output_type": "execute_result",
          "data": {
            "text/plain": [
              "{'name': 'Bob', 'city': 'New York'}"
            ]
          },
          "metadata": {},
          "execution_count": 21
        }
      ]
    },
    {
      "cell_type": "markdown",
      "source": [
        "Q25.Write a code to check if the key \"city\" exists in the dictionary {'name': 'Alice', 'city': 'Paris'}.\n"
      ],
      "metadata": {
        "id": "O80uYiVg8PZs"
      }
    },
    {
      "cell_type": "code",
      "source": [
        "#Write a code to check if the key \"city\" exists in the dictionary {'name': 'Alice', 'city': 'Paris'}.\n",
        "dict5={'name': 'Alice', 'city': 'Paris'}\n",
        "s=dict5.keys()\n",
        "if 'city' in s:\n",
        "  print(\"city exists in the dictionary\")\n",
        "else:\n",
        "  print(\"city doesnot exist in the dictionary\")"
      ],
      "metadata": {
        "colab": {
          "base_uri": "https://localhost:8080/"
        },
        "id": "2ofdLHyf8a13",
        "outputId": "58fdec96-08d7-4d6e-cfab-b7b35caa700a"
      },
      "execution_count": null,
      "outputs": [
        {
          "output_type": "stream",
          "name": "stdout",
          "text": [
            "city exists in the dictionary\n"
          ]
        }
      ]
    },
    {
      "cell_type": "markdown",
      "source": [
        "Q26.Write a code to create a list, a tuple, and a dictionary, and print them all."
      ],
      "metadata": {
        "id": "JWm3T3so9KTu"
      }
    },
    {
      "cell_type": "code",
      "source": [
        "#Write a code to create a list, a tuple, and a dictionary, and print them all.\n",
        "lists=[\"Prudhvi\",1,2.2,True,5+8j]\n",
        "print(\"list: \",lists)\n",
        "tuples=(\"Prudhvi\",1,2.2,True,5+8j)\n",
        "print(\"tuple: \",tuples)\n",
        "dicts={\"name\":\"Prudhvi\",\"city\":\"Kolkata\"}\n",
        "print(\"Dictionary: \",dicts)"
      ],
      "metadata": {
        "colab": {
          "base_uri": "https://localhost:8080/"
        },
        "id": "_wKO76or9OBJ",
        "outputId": "0370f3f0-d2bd-40b2-9d0b-77831a3e7e50"
      },
      "execution_count": null,
      "outputs": [
        {
          "output_type": "stream",
          "name": "stdout",
          "text": [
            "list:  ['Prudhvi', 1, 2.2, True, (5+8j)]\n",
            "tuple:  ('Prudhvi', 1, 2.2, True, (5+8j))\n",
            "Dictionary:  {'name': 'Prudhvi', 'city': 'Kolkata'}\n"
          ]
        }
      ]
    },
    {
      "cell_type": "markdown",
      "source": [
        "Q27.Write a code to create a list of 5 random numbers between 1 and 100, sort it in ascending order, and print the\n",
        "result.(replaced)"
      ],
      "metadata": {
        "id": "0gkdDZx6-l2i"
      }
    },
    {
      "cell_type": "code",
      "source": [
        "#Write a code to create a list of 5 random numbers between 1 and 100, sort it in ascending order, and print the result.(replaced)\n",
        "import random\n",
        "k=5\n",
        "ran_numbers=random.sample(range(1,101),k)\n",
        "ran_numbers.sort()\n",
        "print(ran_numbers)"
      ],
      "metadata": {
        "colab": {
          "base_uri": "https://localhost:8080/"
        },
        "id": "Eb2saLv9-pnd",
        "outputId": "7b245d7b-d98e-4726-e286-4715aa54ce67"
      },
      "execution_count": null,
      "outputs": [
        {
          "output_type": "stream",
          "name": "stdout",
          "text": [
            "[19, 24, 40, 49, 55]\n"
          ]
        }
      ]
    },
    {
      "cell_type": "markdown",
      "source": [
        "Q28.Write a code to create a list with strings and print the element at the third index."
      ],
      "metadata": {
        "id": "g5Hqm3NaATr4"
      }
    },
    {
      "cell_type": "code",
      "source": [
        "#Write a code to create a list with strings and print the element at the third index.\n",
        "list1=[\"Ram\",\"Shyam\",\"Prudhvi\",\"Akash\",\"Rohit\",\"Himanshu\"]\n",
        "list1[3]"
      ],
      "metadata": {
        "colab": {
          "base_uri": "https://localhost:8080/",
          "height": 35
        },
        "id": "1qIJmHm0AYpZ",
        "outputId": "fb4c1d5e-3ad5-439c-f0e8-ff8c561bb475"
      },
      "execution_count": null,
      "outputs": [
        {
          "output_type": "execute_result",
          "data": {
            "text/plain": [
              "'Akash'"
            ],
            "application/vnd.google.colaboratory.intrinsic+json": {
              "type": "string"
            }
          },
          "metadata": {},
          "execution_count": 1
        }
      ]
    },
    {
      "cell_type": "markdown",
      "source": [],
      "metadata": {
        "id": "Gzb06RY_ATpQ"
      }
    },
    {
      "cell_type": "markdown",
      "source": [
        "Q29.Write a code to combine two dictionaries into one and print the result."
      ],
      "metadata": {
        "id": "fb4oVIdJBPve"
      }
    },
    {
      "cell_type": "code",
      "source": [
        "#Write a code to combine two dictionaries into one and print the result.\n",
        "\n",
        "dict6={\"name\":\"Prudhvi\",\"Age\":29}\n",
        "dict7={\"contact\":984757328}\n",
        "dict6.update(dict7)\n",
        "dict6"
      ],
      "metadata": {
        "colab": {
          "base_uri": "https://localhost:8080/"
        },
        "id": "ph78_dizBUhM",
        "outputId": "4ee428bb-93d6-4f3b-b439-043d6ede6689"
      },
      "execution_count": null,
      "outputs": [
        {
          "output_type": "execute_result",
          "data": {
            "text/plain": [
              "{'name': 'Prudhvi', 'Age': 29, 'contact': 984757328}"
            ]
          },
          "metadata": {},
          "execution_count": 38
        }
      ]
    },
    {
      "cell_type": "markdown",
      "source": [
        "Q30.Write a code to convert a list of strings into a set."
      ],
      "metadata": {
        "id": "Lg9wHTtPCncf"
      }
    },
    {
      "cell_type": "code",
      "source": [
        "#Write a code to convert a list of strings into a set.\n",
        "list2=[\"Ram\",\"Shyam\",\"Prudhvi\",\"Akash\",\"Rohit\",\"Himanshu\",\"Ram\",\"Shyam\"]\n",
        "sets=set(list2)\n",
        "print(sets,type(sets))"
      ],
      "metadata": {
        "colab": {
          "base_uri": "https://localhost:8080/"
        },
        "id": "AdCiTF9PCq5d",
        "outputId": "89270905-f115-4511-f6ab-f599f5e7e7a4"
      },
      "execution_count": null,
      "outputs": [
        {
          "output_type": "stream",
          "name": "stdout",
          "text": [
            "{'Shyam', 'Rohit', 'Akash', 'Prudhvi', 'Himanshu', 'Ram'} <class 'set'>\n"
          ]
        }
      ]
    }
  ]
}